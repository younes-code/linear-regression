{
 "cells": [
  {
   "cell_type": "code",
   "execution_count": 188,
   "id": "aa6eb9bf",
   "metadata": {},
   "outputs": [],
   "source": [
    "import pandas as pd\n",
    "import numpy as np\n",
    "import matplotlib.pyplot as plt\n",
    "import seaborn as sns\n",
    "from sklearn.model_selection import train_test_split\n",
    "from sklearn.linear_model import LinearRegression\n",
    "from sklearn.metrics import mean_squared_error\n",
    "from sklearn import metrics\n",
    "from sklearn.preprocessing import PolynomialFeatures \n",
    "\n",
    "\n",
    "data=pd.read_csv(\"kc_house_data.csv\")"
   ]
  },
  {
   "cell_type": "code",
   "execution_count": 189,
   "id": "4225d456",
   "metadata": {},
   "outputs": [
    {
     "data": {
      "text/html": [
       "<div>\n",
       "<style scoped>\n",
       "    .dataframe tbody tr th:only-of-type {\n",
       "        vertical-align: middle;\n",
       "    }\n",
       "\n",
       "    .dataframe tbody tr th {\n",
       "        vertical-align: top;\n",
       "    }\n",
       "\n",
       "    .dataframe thead th {\n",
       "        text-align: right;\n",
       "    }\n",
       "</style>\n",
       "<table border=\"1\" class=\"dataframe\">\n",
       "  <thead>\n",
       "    <tr style=\"text-align: right;\">\n",
       "      <th></th>\n",
       "      <th>id</th>\n",
       "      <th>date</th>\n",
       "      <th>price</th>\n",
       "      <th>bedrooms</th>\n",
       "      <th>bathrooms</th>\n",
       "      <th>sqft_living</th>\n",
       "      <th>sqft_lot</th>\n",
       "      <th>floors</th>\n",
       "      <th>waterfront</th>\n",
       "      <th>view</th>\n",
       "      <th>...</th>\n",
       "      <th>grade</th>\n",
       "      <th>sqft_above</th>\n",
       "      <th>sqft_basement</th>\n",
       "      <th>yr_built</th>\n",
       "      <th>yr_renovated</th>\n",
       "      <th>zipcode</th>\n",
       "      <th>lat</th>\n",
       "      <th>long</th>\n",
       "      <th>sqft_living15</th>\n",
       "      <th>sqft_lot15</th>\n",
       "    </tr>\n",
       "  </thead>\n",
       "  <tbody>\n",
       "    <tr>\n",
       "      <th>0</th>\n",
       "      <td>7129300520</td>\n",
       "      <td>20141013T000000</td>\n",
       "      <td>221900.0</td>\n",
       "      <td>3</td>\n",
       "      <td>1.00</td>\n",
       "      <td>1180</td>\n",
       "      <td>5650</td>\n",
       "      <td>1.0</td>\n",
       "      <td>0</td>\n",
       "      <td>0</td>\n",
       "      <td>...</td>\n",
       "      <td>7</td>\n",
       "      <td>1180</td>\n",
       "      <td>0</td>\n",
       "      <td>1955</td>\n",
       "      <td>0</td>\n",
       "      <td>98178</td>\n",
       "      <td>47.5112</td>\n",
       "      <td>-122.257</td>\n",
       "      <td>1340</td>\n",
       "      <td>5650</td>\n",
       "    </tr>\n",
       "    <tr>\n",
       "      <th>1</th>\n",
       "      <td>6414100192</td>\n",
       "      <td>20141209T000000</td>\n",
       "      <td>538000.0</td>\n",
       "      <td>3</td>\n",
       "      <td>2.25</td>\n",
       "      <td>2570</td>\n",
       "      <td>7242</td>\n",
       "      <td>2.0</td>\n",
       "      <td>0</td>\n",
       "      <td>0</td>\n",
       "      <td>...</td>\n",
       "      <td>7</td>\n",
       "      <td>2170</td>\n",
       "      <td>400</td>\n",
       "      <td>1951</td>\n",
       "      <td>1991</td>\n",
       "      <td>98125</td>\n",
       "      <td>47.7210</td>\n",
       "      <td>-122.319</td>\n",
       "      <td>1690</td>\n",
       "      <td>7639</td>\n",
       "    </tr>\n",
       "    <tr>\n",
       "      <th>2</th>\n",
       "      <td>5631500400</td>\n",
       "      <td>20150225T000000</td>\n",
       "      <td>180000.0</td>\n",
       "      <td>2</td>\n",
       "      <td>1.00</td>\n",
       "      <td>770</td>\n",
       "      <td>10000</td>\n",
       "      <td>1.0</td>\n",
       "      <td>0</td>\n",
       "      <td>0</td>\n",
       "      <td>...</td>\n",
       "      <td>6</td>\n",
       "      <td>770</td>\n",
       "      <td>0</td>\n",
       "      <td>1933</td>\n",
       "      <td>0</td>\n",
       "      <td>98028</td>\n",
       "      <td>47.7379</td>\n",
       "      <td>-122.233</td>\n",
       "      <td>2720</td>\n",
       "      <td>8062</td>\n",
       "    </tr>\n",
       "    <tr>\n",
       "      <th>3</th>\n",
       "      <td>2487200875</td>\n",
       "      <td>20141209T000000</td>\n",
       "      <td>604000.0</td>\n",
       "      <td>4</td>\n",
       "      <td>3.00</td>\n",
       "      <td>1960</td>\n",
       "      <td>5000</td>\n",
       "      <td>1.0</td>\n",
       "      <td>0</td>\n",
       "      <td>0</td>\n",
       "      <td>...</td>\n",
       "      <td>7</td>\n",
       "      <td>1050</td>\n",
       "      <td>910</td>\n",
       "      <td>1965</td>\n",
       "      <td>0</td>\n",
       "      <td>98136</td>\n",
       "      <td>47.5208</td>\n",
       "      <td>-122.393</td>\n",
       "      <td>1360</td>\n",
       "      <td>5000</td>\n",
       "    </tr>\n",
       "    <tr>\n",
       "      <th>4</th>\n",
       "      <td>1954400510</td>\n",
       "      <td>20150218T000000</td>\n",
       "      <td>510000.0</td>\n",
       "      <td>3</td>\n",
       "      <td>2.00</td>\n",
       "      <td>1680</td>\n",
       "      <td>8080</td>\n",
       "      <td>1.0</td>\n",
       "      <td>0</td>\n",
       "      <td>0</td>\n",
       "      <td>...</td>\n",
       "      <td>8</td>\n",
       "      <td>1680</td>\n",
       "      <td>0</td>\n",
       "      <td>1987</td>\n",
       "      <td>0</td>\n",
       "      <td>98074</td>\n",
       "      <td>47.6168</td>\n",
       "      <td>-122.045</td>\n",
       "      <td>1800</td>\n",
       "      <td>7503</td>\n",
       "    </tr>\n",
       "  </tbody>\n",
       "</table>\n",
       "<p>5 rows × 21 columns</p>\n",
       "</div>"
      ],
      "text/plain": [
       "           id             date     price  bedrooms  bathrooms  sqft_living  \\\n",
       "0  7129300520  20141013T000000  221900.0         3       1.00         1180   \n",
       "1  6414100192  20141209T000000  538000.0         3       2.25         2570   \n",
       "2  5631500400  20150225T000000  180000.0         2       1.00          770   \n",
       "3  2487200875  20141209T000000  604000.0         4       3.00         1960   \n",
       "4  1954400510  20150218T000000  510000.0         3       2.00         1680   \n",
       "\n",
       "   sqft_lot  floors  waterfront  view  ...  grade  sqft_above  sqft_basement  \\\n",
       "0      5650     1.0           0     0  ...      7        1180              0   \n",
       "1      7242     2.0           0     0  ...      7        2170            400   \n",
       "2     10000     1.0           0     0  ...      6         770              0   \n",
       "3      5000     1.0           0     0  ...      7        1050            910   \n",
       "4      8080     1.0           0     0  ...      8        1680              0   \n",
       "\n",
       "   yr_built  yr_renovated  zipcode      lat     long  sqft_living15  \\\n",
       "0      1955             0    98178  47.5112 -122.257           1340   \n",
       "1      1951          1991    98125  47.7210 -122.319           1690   \n",
       "2      1933             0    98028  47.7379 -122.233           2720   \n",
       "3      1965             0    98136  47.5208 -122.393           1360   \n",
       "4      1987             0    98074  47.6168 -122.045           1800   \n",
       "\n",
       "   sqft_lot15  \n",
       "0        5650  \n",
       "1        7639  \n",
       "2        8062  \n",
       "3        5000  \n",
       "4        7503  \n",
       "\n",
       "[5 rows x 21 columns]"
      ]
     },
     "execution_count": 189,
     "metadata": {},
     "output_type": "execute_result"
    }
   ],
   "source": [
    "data.head()"
   ]
  },
  {
   "cell_type": "code",
   "execution_count": 190,
   "id": "e45498a6",
   "metadata": {},
   "outputs": [
    {
     "name": "stdout",
     "output_type": "stream",
     "text": [
      "<class 'pandas.core.frame.DataFrame'>\n",
      "RangeIndex: 21613 entries, 0 to 21612\n",
      "Data columns (total 21 columns):\n",
      " #   Column         Non-Null Count  Dtype  \n",
      "---  ------         --------------  -----  \n",
      " 0   id             21613 non-null  int64  \n",
      " 1   date           21613 non-null  object \n",
      " 2   price          21613 non-null  float64\n",
      " 3   bedrooms       21613 non-null  int64  \n",
      " 4   bathrooms      21613 non-null  float64\n",
      " 5   sqft_living    21613 non-null  int64  \n",
      " 6   sqft_lot       21613 non-null  int64  \n",
      " 7   floors         21613 non-null  float64\n",
      " 8   waterfront     21613 non-null  int64  \n",
      " 9   view           21613 non-null  int64  \n",
      " 10  condition      21613 non-null  int64  \n",
      " 11  grade          21613 non-null  int64  \n",
      " 12  sqft_above     21613 non-null  int64  \n",
      " 13  sqft_basement  21613 non-null  int64  \n",
      " 14  yr_built       21613 non-null  int64  \n",
      " 15  yr_renovated   21613 non-null  int64  \n",
      " 16  zipcode        21613 non-null  int64  \n",
      " 17  lat            21613 non-null  float64\n",
      " 18  long           21613 non-null  float64\n",
      " 19  sqft_living15  21613 non-null  int64  \n",
      " 20  sqft_lot15     21613 non-null  int64  \n",
      "dtypes: float64(5), int64(15), object(1)\n",
      "memory usage: 3.5+ MB\n"
     ]
    }
   ],
   "source": [
    "data.info()"
   ]
  },
  {
   "cell_type": "code",
   "execution_count": 191,
   "id": "314486c7",
   "metadata": {},
   "outputs": [
    {
     "data": {
      "text/plain": [
       "(21613, 21)"
      ]
     },
     "execution_count": 191,
     "metadata": {},
     "output_type": "execute_result"
    }
   ],
   "source": [
    "data.shape"
   ]
  },
  {
   "cell_type": "code",
   "execution_count": 192,
   "id": "e9184c4c",
   "metadata": {},
   "outputs": [
    {
     "data": {
      "text/html": [
       "<div>\n",
       "<style scoped>\n",
       "    .dataframe tbody tr th:only-of-type {\n",
       "        vertical-align: middle;\n",
       "    }\n",
       "\n",
       "    .dataframe tbody tr th {\n",
       "        vertical-align: top;\n",
       "    }\n",
       "\n",
       "    .dataframe thead th {\n",
       "        text-align: right;\n",
       "    }\n",
       "</style>\n",
       "<table border=\"1\" class=\"dataframe\">\n",
       "  <thead>\n",
       "    <tr style=\"text-align: right;\">\n",
       "      <th></th>\n",
       "      <th>id</th>\n",
       "      <th>price</th>\n",
       "      <th>bedrooms</th>\n",
       "      <th>bathrooms</th>\n",
       "      <th>sqft_living</th>\n",
       "      <th>sqft_lot</th>\n",
       "      <th>floors</th>\n",
       "      <th>waterfront</th>\n",
       "      <th>view</th>\n",
       "      <th>condition</th>\n",
       "      <th>grade</th>\n",
       "      <th>sqft_above</th>\n",
       "      <th>sqft_basement</th>\n",
       "      <th>yr_built</th>\n",
       "      <th>yr_renovated</th>\n",
       "      <th>zipcode</th>\n",
       "      <th>lat</th>\n",
       "      <th>long</th>\n",
       "      <th>sqft_living15</th>\n",
       "      <th>sqft_lot15</th>\n",
       "    </tr>\n",
       "  </thead>\n",
       "  <tbody>\n",
       "    <tr>\n",
       "      <th>count</th>\n",
       "      <td>2.161300e+04</td>\n",
       "      <td>2.161300e+04</td>\n",
       "      <td>21613.000000</td>\n",
       "      <td>21613.000000</td>\n",
       "      <td>21613.000000</td>\n",
       "      <td>2.161300e+04</td>\n",
       "      <td>21613.000000</td>\n",
       "      <td>21613.000000</td>\n",
       "      <td>21613.000000</td>\n",
       "      <td>21613.000000</td>\n",
       "      <td>21613.000000</td>\n",
       "      <td>21613.000000</td>\n",
       "      <td>21613.000000</td>\n",
       "      <td>21613.000000</td>\n",
       "      <td>21613.000000</td>\n",
       "      <td>21613.000000</td>\n",
       "      <td>21613.000000</td>\n",
       "      <td>21613.000000</td>\n",
       "      <td>21613.000000</td>\n",
       "      <td>21613.000000</td>\n",
       "    </tr>\n",
       "    <tr>\n",
       "      <th>mean</th>\n",
       "      <td>4.580302e+09</td>\n",
       "      <td>5.400881e+05</td>\n",
       "      <td>3.370842</td>\n",
       "      <td>2.114757</td>\n",
       "      <td>2079.899736</td>\n",
       "      <td>1.510697e+04</td>\n",
       "      <td>1.494309</td>\n",
       "      <td>0.007542</td>\n",
       "      <td>0.234303</td>\n",
       "      <td>3.409430</td>\n",
       "      <td>7.656873</td>\n",
       "      <td>1788.390691</td>\n",
       "      <td>291.509045</td>\n",
       "      <td>1971.005136</td>\n",
       "      <td>84.402258</td>\n",
       "      <td>98077.939805</td>\n",
       "      <td>47.560053</td>\n",
       "      <td>-122.213896</td>\n",
       "      <td>1986.552492</td>\n",
       "      <td>12768.455652</td>\n",
       "    </tr>\n",
       "    <tr>\n",
       "      <th>std</th>\n",
       "      <td>2.876566e+09</td>\n",
       "      <td>3.671272e+05</td>\n",
       "      <td>0.930062</td>\n",
       "      <td>0.770163</td>\n",
       "      <td>918.440897</td>\n",
       "      <td>4.142051e+04</td>\n",
       "      <td>0.539989</td>\n",
       "      <td>0.086517</td>\n",
       "      <td>0.766318</td>\n",
       "      <td>0.650743</td>\n",
       "      <td>1.175459</td>\n",
       "      <td>828.090978</td>\n",
       "      <td>442.575043</td>\n",
       "      <td>29.373411</td>\n",
       "      <td>401.679240</td>\n",
       "      <td>53.505026</td>\n",
       "      <td>0.138564</td>\n",
       "      <td>0.140828</td>\n",
       "      <td>685.391304</td>\n",
       "      <td>27304.179631</td>\n",
       "    </tr>\n",
       "    <tr>\n",
       "      <th>min</th>\n",
       "      <td>1.000102e+06</td>\n",
       "      <td>7.500000e+04</td>\n",
       "      <td>0.000000</td>\n",
       "      <td>0.000000</td>\n",
       "      <td>290.000000</td>\n",
       "      <td>5.200000e+02</td>\n",
       "      <td>1.000000</td>\n",
       "      <td>0.000000</td>\n",
       "      <td>0.000000</td>\n",
       "      <td>1.000000</td>\n",
       "      <td>1.000000</td>\n",
       "      <td>290.000000</td>\n",
       "      <td>0.000000</td>\n",
       "      <td>1900.000000</td>\n",
       "      <td>0.000000</td>\n",
       "      <td>98001.000000</td>\n",
       "      <td>47.155900</td>\n",
       "      <td>-122.519000</td>\n",
       "      <td>399.000000</td>\n",
       "      <td>651.000000</td>\n",
       "    </tr>\n",
       "    <tr>\n",
       "      <th>25%</th>\n",
       "      <td>2.123049e+09</td>\n",
       "      <td>3.219500e+05</td>\n",
       "      <td>3.000000</td>\n",
       "      <td>1.750000</td>\n",
       "      <td>1427.000000</td>\n",
       "      <td>5.040000e+03</td>\n",
       "      <td>1.000000</td>\n",
       "      <td>0.000000</td>\n",
       "      <td>0.000000</td>\n",
       "      <td>3.000000</td>\n",
       "      <td>7.000000</td>\n",
       "      <td>1190.000000</td>\n",
       "      <td>0.000000</td>\n",
       "      <td>1951.000000</td>\n",
       "      <td>0.000000</td>\n",
       "      <td>98033.000000</td>\n",
       "      <td>47.471000</td>\n",
       "      <td>-122.328000</td>\n",
       "      <td>1490.000000</td>\n",
       "      <td>5100.000000</td>\n",
       "    </tr>\n",
       "    <tr>\n",
       "      <th>50%</th>\n",
       "      <td>3.904930e+09</td>\n",
       "      <td>4.500000e+05</td>\n",
       "      <td>3.000000</td>\n",
       "      <td>2.250000</td>\n",
       "      <td>1910.000000</td>\n",
       "      <td>7.618000e+03</td>\n",
       "      <td>1.500000</td>\n",
       "      <td>0.000000</td>\n",
       "      <td>0.000000</td>\n",
       "      <td>3.000000</td>\n",
       "      <td>7.000000</td>\n",
       "      <td>1560.000000</td>\n",
       "      <td>0.000000</td>\n",
       "      <td>1975.000000</td>\n",
       "      <td>0.000000</td>\n",
       "      <td>98065.000000</td>\n",
       "      <td>47.571800</td>\n",
       "      <td>-122.230000</td>\n",
       "      <td>1840.000000</td>\n",
       "      <td>7620.000000</td>\n",
       "    </tr>\n",
       "    <tr>\n",
       "      <th>75%</th>\n",
       "      <td>7.308900e+09</td>\n",
       "      <td>6.450000e+05</td>\n",
       "      <td>4.000000</td>\n",
       "      <td>2.500000</td>\n",
       "      <td>2550.000000</td>\n",
       "      <td>1.068800e+04</td>\n",
       "      <td>2.000000</td>\n",
       "      <td>0.000000</td>\n",
       "      <td>0.000000</td>\n",
       "      <td>4.000000</td>\n",
       "      <td>8.000000</td>\n",
       "      <td>2210.000000</td>\n",
       "      <td>560.000000</td>\n",
       "      <td>1997.000000</td>\n",
       "      <td>0.000000</td>\n",
       "      <td>98118.000000</td>\n",
       "      <td>47.678000</td>\n",
       "      <td>-122.125000</td>\n",
       "      <td>2360.000000</td>\n",
       "      <td>10083.000000</td>\n",
       "    </tr>\n",
       "    <tr>\n",
       "      <th>max</th>\n",
       "      <td>9.900000e+09</td>\n",
       "      <td>7.700000e+06</td>\n",
       "      <td>33.000000</td>\n",
       "      <td>8.000000</td>\n",
       "      <td>13540.000000</td>\n",
       "      <td>1.651359e+06</td>\n",
       "      <td>3.500000</td>\n",
       "      <td>1.000000</td>\n",
       "      <td>4.000000</td>\n",
       "      <td>5.000000</td>\n",
       "      <td>13.000000</td>\n",
       "      <td>9410.000000</td>\n",
       "      <td>4820.000000</td>\n",
       "      <td>2015.000000</td>\n",
       "      <td>2015.000000</td>\n",
       "      <td>98199.000000</td>\n",
       "      <td>47.777600</td>\n",
       "      <td>-121.315000</td>\n",
       "      <td>6210.000000</td>\n",
       "      <td>871200.000000</td>\n",
       "    </tr>\n",
       "  </tbody>\n",
       "</table>\n",
       "</div>"
      ],
      "text/plain": [
       "                 id         price      bedrooms     bathrooms   sqft_living  \\\n",
       "count  2.161300e+04  2.161300e+04  21613.000000  21613.000000  21613.000000   \n",
       "mean   4.580302e+09  5.400881e+05      3.370842      2.114757   2079.899736   \n",
       "std    2.876566e+09  3.671272e+05      0.930062      0.770163    918.440897   \n",
       "min    1.000102e+06  7.500000e+04      0.000000      0.000000    290.000000   \n",
       "25%    2.123049e+09  3.219500e+05      3.000000      1.750000   1427.000000   \n",
       "50%    3.904930e+09  4.500000e+05      3.000000      2.250000   1910.000000   \n",
       "75%    7.308900e+09  6.450000e+05      4.000000      2.500000   2550.000000   \n",
       "max    9.900000e+09  7.700000e+06     33.000000      8.000000  13540.000000   \n",
       "\n",
       "           sqft_lot        floors    waterfront          view     condition  \\\n",
       "count  2.161300e+04  21613.000000  21613.000000  21613.000000  21613.000000   \n",
       "mean   1.510697e+04      1.494309      0.007542      0.234303      3.409430   \n",
       "std    4.142051e+04      0.539989      0.086517      0.766318      0.650743   \n",
       "min    5.200000e+02      1.000000      0.000000      0.000000      1.000000   \n",
       "25%    5.040000e+03      1.000000      0.000000      0.000000      3.000000   \n",
       "50%    7.618000e+03      1.500000      0.000000      0.000000      3.000000   \n",
       "75%    1.068800e+04      2.000000      0.000000      0.000000      4.000000   \n",
       "max    1.651359e+06      3.500000      1.000000      4.000000      5.000000   \n",
       "\n",
       "              grade    sqft_above  sqft_basement      yr_built  yr_renovated  \\\n",
       "count  21613.000000  21613.000000   21613.000000  21613.000000  21613.000000   \n",
       "mean       7.656873   1788.390691     291.509045   1971.005136     84.402258   \n",
       "std        1.175459    828.090978     442.575043     29.373411    401.679240   \n",
       "min        1.000000    290.000000       0.000000   1900.000000      0.000000   \n",
       "25%        7.000000   1190.000000       0.000000   1951.000000      0.000000   \n",
       "50%        7.000000   1560.000000       0.000000   1975.000000      0.000000   \n",
       "75%        8.000000   2210.000000     560.000000   1997.000000      0.000000   \n",
       "max       13.000000   9410.000000    4820.000000   2015.000000   2015.000000   \n",
       "\n",
       "            zipcode           lat          long  sqft_living15     sqft_lot15  \n",
       "count  21613.000000  21613.000000  21613.000000   21613.000000   21613.000000  \n",
       "mean   98077.939805     47.560053   -122.213896    1986.552492   12768.455652  \n",
       "std       53.505026      0.138564      0.140828     685.391304   27304.179631  \n",
       "min    98001.000000     47.155900   -122.519000     399.000000     651.000000  \n",
       "25%    98033.000000     47.471000   -122.328000    1490.000000    5100.000000  \n",
       "50%    98065.000000     47.571800   -122.230000    1840.000000    7620.000000  \n",
       "75%    98118.000000     47.678000   -122.125000    2360.000000   10083.000000  \n",
       "max    98199.000000     47.777600   -121.315000    6210.000000  871200.000000  "
      ]
     },
     "execution_count": 192,
     "metadata": {},
     "output_type": "execute_result"
    }
   ],
   "source": [
    "data.describe()"
   ]
  },
  {
   "cell_type": "code",
   "execution_count": 193,
   "id": "5fb2d90d",
   "metadata": {},
   "outputs": [
    {
     "data": {
      "text/plain": [
       "0"
      ]
     },
     "execution_count": 193,
     "metadata": {},
     "output_type": "execute_result"
    }
   ],
   "source": [
    "data.isnull().sum().sum()"
   ]
  },
  {
   "cell_type": "code",
   "execution_count": 194,
   "id": "764e62bd",
   "metadata": {
    "scrolled": false
   },
   "outputs": [],
   "source": [
    "#delete unnecessary column (id,long,lat',view)\n",
    "del data['id']\n",
    "del data['view']\n",
    "del data['zipcode']\n",
    "del data['sqft_living15']\n",
    "del data['sqft_lot15']"
   ]
  },
  {
   "cell_type": "code",
   "execution_count": 195,
   "id": "b8d94c77",
   "metadata": {
    "scrolled": true
   },
   "outputs": [
    {
     "data": {
      "text/html": [
       "<div>\n",
       "<style scoped>\n",
       "    .dataframe tbody tr th:only-of-type {\n",
       "        vertical-align: middle;\n",
       "    }\n",
       "\n",
       "    .dataframe tbody tr th {\n",
       "        vertical-align: top;\n",
       "    }\n",
       "\n",
       "    .dataframe thead th {\n",
       "        text-align: right;\n",
       "    }\n",
       "</style>\n",
       "<table border=\"1\" class=\"dataframe\">\n",
       "  <thead>\n",
       "    <tr style=\"text-align: right;\">\n",
       "      <th></th>\n",
       "      <th>date</th>\n",
       "      <th>price</th>\n",
       "      <th>bedrooms</th>\n",
       "      <th>bathrooms</th>\n",
       "      <th>sqft_living</th>\n",
       "      <th>sqft_lot</th>\n",
       "      <th>floors</th>\n",
       "      <th>waterfront</th>\n",
       "      <th>condition</th>\n",
       "      <th>grade</th>\n",
       "      <th>sqft_above</th>\n",
       "      <th>sqft_basement</th>\n",
       "      <th>yr_built</th>\n",
       "      <th>yr_renovated</th>\n",
       "      <th>lat</th>\n",
       "      <th>long</th>\n",
       "    </tr>\n",
       "  </thead>\n",
       "  <tbody>\n",
       "    <tr>\n",
       "      <th>0</th>\n",
       "      <td>20141013T000000</td>\n",
       "      <td>221900.0</td>\n",
       "      <td>3</td>\n",
       "      <td>1.00</td>\n",
       "      <td>1180</td>\n",
       "      <td>5650</td>\n",
       "      <td>1.0</td>\n",
       "      <td>0</td>\n",
       "      <td>3</td>\n",
       "      <td>7</td>\n",
       "      <td>1180</td>\n",
       "      <td>0</td>\n",
       "      <td>1955</td>\n",
       "      <td>0</td>\n",
       "      <td>47.5112</td>\n",
       "      <td>-122.257</td>\n",
       "    </tr>\n",
       "    <tr>\n",
       "      <th>1</th>\n",
       "      <td>20141209T000000</td>\n",
       "      <td>538000.0</td>\n",
       "      <td>3</td>\n",
       "      <td>2.25</td>\n",
       "      <td>2570</td>\n",
       "      <td>7242</td>\n",
       "      <td>2.0</td>\n",
       "      <td>0</td>\n",
       "      <td>3</td>\n",
       "      <td>7</td>\n",
       "      <td>2170</td>\n",
       "      <td>400</td>\n",
       "      <td>1951</td>\n",
       "      <td>1991</td>\n",
       "      <td>47.7210</td>\n",
       "      <td>-122.319</td>\n",
       "    </tr>\n",
       "    <tr>\n",
       "      <th>2</th>\n",
       "      <td>20150225T000000</td>\n",
       "      <td>180000.0</td>\n",
       "      <td>2</td>\n",
       "      <td>1.00</td>\n",
       "      <td>770</td>\n",
       "      <td>10000</td>\n",
       "      <td>1.0</td>\n",
       "      <td>0</td>\n",
       "      <td>3</td>\n",
       "      <td>6</td>\n",
       "      <td>770</td>\n",
       "      <td>0</td>\n",
       "      <td>1933</td>\n",
       "      <td>0</td>\n",
       "      <td>47.7379</td>\n",
       "      <td>-122.233</td>\n",
       "    </tr>\n",
       "    <tr>\n",
       "      <th>3</th>\n",
       "      <td>20141209T000000</td>\n",
       "      <td>604000.0</td>\n",
       "      <td>4</td>\n",
       "      <td>3.00</td>\n",
       "      <td>1960</td>\n",
       "      <td>5000</td>\n",
       "      <td>1.0</td>\n",
       "      <td>0</td>\n",
       "      <td>5</td>\n",
       "      <td>7</td>\n",
       "      <td>1050</td>\n",
       "      <td>910</td>\n",
       "      <td>1965</td>\n",
       "      <td>0</td>\n",
       "      <td>47.5208</td>\n",
       "      <td>-122.393</td>\n",
       "    </tr>\n",
       "    <tr>\n",
       "      <th>4</th>\n",
       "      <td>20150218T000000</td>\n",
       "      <td>510000.0</td>\n",
       "      <td>3</td>\n",
       "      <td>2.00</td>\n",
       "      <td>1680</td>\n",
       "      <td>8080</td>\n",
       "      <td>1.0</td>\n",
       "      <td>0</td>\n",
       "      <td>3</td>\n",
       "      <td>8</td>\n",
       "      <td>1680</td>\n",
       "      <td>0</td>\n",
       "      <td>1987</td>\n",
       "      <td>0</td>\n",
       "      <td>47.6168</td>\n",
       "      <td>-122.045</td>\n",
       "    </tr>\n",
       "  </tbody>\n",
       "</table>\n",
       "</div>"
      ],
      "text/plain": [
       "              date     price  bedrooms  bathrooms  sqft_living  sqft_lot  \\\n",
       "0  20141013T000000  221900.0         3       1.00         1180      5650   \n",
       "1  20141209T000000  538000.0         3       2.25         2570      7242   \n",
       "2  20150225T000000  180000.0         2       1.00          770     10000   \n",
       "3  20141209T000000  604000.0         4       3.00         1960      5000   \n",
       "4  20150218T000000  510000.0         3       2.00         1680      8080   \n",
       "\n",
       "   floors  waterfront  condition  grade  sqft_above  sqft_basement  yr_built  \\\n",
       "0     1.0           0          3      7        1180              0      1955   \n",
       "1     2.0           0          3      7        2170            400      1951   \n",
       "2     1.0           0          3      6         770              0      1933   \n",
       "3     1.0           0          5      7        1050            910      1965   \n",
       "4     1.0           0          3      8        1680              0      1987   \n",
       "\n",
       "   yr_renovated      lat     long  \n",
       "0             0  47.5112 -122.257  \n",
       "1          1991  47.7210 -122.319  \n",
       "2             0  47.7379 -122.233  \n",
       "3             0  47.5208 -122.393  \n",
       "4             0  47.6168 -122.045  "
      ]
     },
     "execution_count": 195,
     "metadata": {},
     "output_type": "execute_result"
    }
   ],
   "source": [
    "data.head()"
   ]
  },
  {
   "cell_type": "code",
   "execution_count": 196,
   "id": "dd2afb3a",
   "metadata": {
    "scrolled": true
   },
   "outputs": [
    {
     "data": {
      "text/plain": [
       "<matplotlib.collections.PathCollection at 0x264b6531490>"
      ]
     },
     "execution_count": 196,
     "metadata": {},
     "output_type": "execute_result"
    },
    {
     "data": {
      "image/png": "[encoded data removed]",
      "text/plain": [
       "<Figure size 432x288 with 1 Axes>"
      ]
     },
     "metadata": {
      "needs_background": "light"
     },
     "output_type": "display_data"
    }
   ],
   "source": [
    "import seaborn as sns\n",
    "plt.scatter(data[\"bedrooms\"] ,data[\"price\"])"
   ]
  },
  {
   "cell_type": "code",
   "execution_count": 197,
   "id": "fc9a70e6",
   "metadata": {},
   "outputs": [
    {
     "data": {
      "text/plain": [
       "3     9824\n",
       "4     6882\n",
       "2     2760\n",
       "5     1601\n",
       "6      272\n",
       "1      199\n",
       "7       38\n",
       "0       13\n",
       "8       13\n",
       "9        6\n",
       "10       3\n",
       "33       1\n",
       "11       1\n",
       "Name: bedrooms, dtype: int64"
      ]
     },
     "execution_count": 197,
     "metadata": {},
     "output_type": "execute_result"
    }
   ],
   "source": [
    "data['bedrooms'].value_counts()"
   ]
  },
  {
   "cell_type": "code",
   "execution_count": 198,
   "id": "a15c2268",
   "metadata": {},
   "outputs": [
    {
     "data": {
      "text/plain": [
       "<matplotlib.collections.PathCollection at 0x264b6581d90>"
      ]
     },
     "execution_count": 198,
     "metadata": {},
     "output_type": "execute_result"
    },
    {
     "data": {
      "image/png": "[encoded data removed]",
      "text/plain": [
       "<Figure size 432x288 with 1 Axes>"
      ]
     },
     "metadata": {
      "needs_background": "light"
     },
     "output_type": "display_data"
    }
   ],
   "source": [
    "#removing the outiler (33 bedrooms) to have a better visualization \n",
    "data=data[data['bedrooms']!=33]\n",
    "plt.scatter(data[\"bedrooms\"] ,data[\"price\"])"
   ]
  },
  {
   "cell_type": "markdown",
   "id": "e17db391",
   "metadata": {},
   "source": [
    "The frequency of no of bedrooms=[3,6] is high. The price is note so correlated with the number of bedrooms,because the price depends also on other features like bathrooms,space etc."
   ]
  },
  {
   "cell_type": "code",
   "execution_count": 199,
   "id": "a9ad6233",
   "metadata": {
    "scrolled": false
   },
   "outputs": [
    {
     "data": {
      "text/plain": [
       "<matplotlib.collections.PathCollection at 0x264b8a03940>"
      ]
     },
     "execution_count": 199,
     "metadata": {},
     "output_type": "execute_result"
    },
    {
     "data": {
      "image/png": "[encoded data removed]",
      "text/plain": [
       "<Figure size 432x288 with 1 Axes>"
      ]
     },
     "metadata": {
      "needs_background": "light"
     },
     "output_type": "display_data"
    }
   ],
   "source": [
    "plt.scatter(data[\"bathrooms\"] ,data[\"price\"])"
   ]
  },
  {
   "cell_type": "markdown",
   "id": "e2e617e3",
   "metadata": {},
   "source": [
    "the number of bathrooms and the price of the house is strongly correlated"
   ]
  },
  {
   "cell_type": "code",
   "execution_count": 200,
   "id": "a1806585",
   "metadata": {
    "scrolled": true
   },
   "outputs": [
    {
     "data": {
      "text/plain": [
       "<matplotlib.collections.PathCollection at 0x264b8a68430>"
      ]
     },
     "execution_count": 200,
     "metadata": {},
     "output_type": "execute_result"
    },
    {
     "data": {
      "image/png": "[encoded data removed]",
      "text/plain": [
       "<Figure size 432x288 with 1 Axes>"
      ]
     },
     "metadata": {
      "needs_background": "light"
     },
     "output_type": "display_data"
    }
   ],
   "source": [
    "plt.scatter(data[\"sqft_living\"] ,data[\"price\"])"
   ]
  },
  {
   "cell_type": "markdown",
   "id": "5e31a683",
   "metadata": {},
   "source": [
    "the number of bathrooms and the price of the house is strongly correlated,larger living space comes with a bigger price"
   ]
  },
  {
   "cell_type": "code",
   "execution_count": 201,
   "id": "55f91c7d",
   "metadata": {
    "scrolled": false
   },
   "outputs": [
    {
     "data": {
      "text/plain": [
       "<matplotlib.collections.PathCollection at 0x264b989caf0>"
      ]
     },
     "execution_count": 201,
     "metadata": {},
     "output_type": "execute_result"
    },
    {
     "data": {
      "image/png": "[encoded data removed]",
      "text/plain": [
       "<Figure size 432x288 with 1 Axes>"
      ]
     },
     "metadata": {
      "needs_background": "light"
     },
     "output_type": "display_data"
    }
   ],
   "source": [
    "plt.scatter(data[\"sqft_lot\"] ,data[\"price\"])"
   ]
  },
  {
   "cell_type": "markdown",
   "id": "ac6c8c7e",
   "metadata": {},
   "source": [
    "most houses have a small lot space,and the price depends more on other features"
   ]
  },
  {
   "cell_type": "code",
   "execution_count": 202,
   "id": "d82488c6",
   "metadata": {},
   "outputs": [
    {
     "data": {
      "text/plain": [
       "<matplotlib.collections.PathCollection at 0x264b98f9d30>"
      ]
     },
     "execution_count": 202,
     "metadata": {},
     "output_type": "execute_result"
    },
    {
     "data": {
      "image/png": "[encoded data removed]",
      "text/plain": [
       "<Figure size 432x288 with 1 Axes>"
      ]
     },
     "metadata": {
      "needs_background": "light"
     },
     "output_type": "display_data"
    }
   ],
   "source": [
    "plt.scatter(data[\"grade\"] ,data[\"price\"])"
   ]
  },
  {
   "cell_type": "markdown",
   "id": "161ef1cc",
   "metadata": {},
   "source": [
    "the grade and the price of the house is strongly correlated,It determines the overall value of the house"
   ]
  },
  {
   "cell_type": "code",
   "execution_count": 203,
   "id": "cd439fdc",
   "metadata": {
    "scrolled": false
   },
   "outputs": [
    {
     "data": {
      "text/plain": [
       "<seaborn.axisgrid.FacetGrid at 0x264b8a3c280>"
      ]
     },
     "execution_count": 203,
     "metadata": {},
     "output_type": "execute_result"
    },
    {
     "data": {
      "image/png": "[encoded data removed]",
      "text/plain": [
       "<Figure size 360x360 with 1 Axes>"
      ]
     },
     "metadata": {
      "needs_background": "light"
     },
     "output_type": "display_data"
    }
   ],
   "source": [
    "sns.catplot(x='waterfront',y='price',data=data)"
   ]
  },
  {
   "cell_type": "markdown",
   "id": "30b1b7a1",
   "metadata": {},
   "source": [
    "number of houses with no water front is larger,but there prices can go higher then those with water fronts because other features"
   ]
  },
  {
   "cell_type": "code",
   "execution_count": 204,
   "id": "2b887a3d",
   "metadata": {},
   "outputs": [
    {
     "data": {
      "text/plain": [
       "3    14031\n",
       "4     5679\n",
       "5     1700\n",
       "2      172\n",
       "1       30\n",
       "Name: condition, dtype: int64"
      ]
     },
     "execution_count": 204,
     "metadata": {},
     "output_type": "execute_result"
    }
   ],
   "source": [
    "data['condition'].value_counts()"
   ]
  },
  {
   "cell_type": "code",
   "execution_count": 205,
   "id": "2169fad9",
   "metadata": {},
   "outputs": [
    {
     "data": {
      "text/plain": [
       "<seaborn.axisgrid.FacetGrid at 0x264b8a03970>"
      ]
     },
     "execution_count": 205,
     "metadata": {},
     "output_type": "execute_result"
    },
    {
     "data": {
      "image/png": "[encoded data removed]",
      "text/plain": [
       "<Figure size 360x360 with 1 Axes>"
      ]
     },
     "metadata": {
      "needs_background": "light"
     },
     "output_type": "display_data"
    }
   ],
   "source": [
    "sns.catplot(x='condition',y='price',data=data)"
   ]
  },
  {
   "cell_type": "markdown",
   "id": "60d08736",
   "metadata": {},
   "source": [
    "people tend to spend less if the condition of the house is bad"
   ]
  },
  {
   "cell_type": "code",
   "execution_count": 206,
   "id": "6c4f8962",
   "metadata": {
    "scrolled": true
   },
   "outputs": [
    {
     "data": {
      "text/html": [
       "<div>\n",
       "<style scoped>\n",
       "    .dataframe tbody tr th:only-of-type {\n",
       "        vertical-align: middle;\n",
       "    }\n",
       "\n",
       "    .dataframe tbody tr th {\n",
       "        vertical-align: top;\n",
       "    }\n",
       "\n",
       "    .dataframe thead th {\n",
       "        text-align: right;\n",
       "    }\n",
       "</style>\n",
       "<table border=\"1\" class=\"dataframe\">\n",
       "  <thead>\n",
       "    <tr style=\"text-align: right;\">\n",
       "      <th></th>\n",
       "      <th>price</th>\n",
       "      <th>bedrooms</th>\n",
       "      <th>bathrooms</th>\n",
       "      <th>sqft_living</th>\n",
       "      <th>sqft_lot</th>\n",
       "      <th>floors</th>\n",
       "      <th>waterfront</th>\n",
       "      <th>condition</th>\n",
       "      <th>grade</th>\n",
       "      <th>sqft_above</th>\n",
       "      <th>sqft_basement</th>\n",
       "      <th>yr_built</th>\n",
       "      <th>yr_renovated</th>\n",
       "      <th>lat</th>\n",
       "      <th>long</th>\n",
       "    </tr>\n",
       "  </thead>\n",
       "  <tbody>\n",
       "    <tr>\n",
       "      <th>price</th>\n",
       "      <td>1.000000</td>\n",
       "      <td>0.315445</td>\n",
       "      <td>0.525147</td>\n",
       "      <td>0.702047</td>\n",
       "      <td>0.089664</td>\n",
       "      <td>0.256811</td>\n",
       "      <td>0.266371</td>\n",
       "      <td>0.036336</td>\n",
       "      <td>0.667447</td>\n",
       "      <td>0.605591</td>\n",
       "      <td>0.323812</td>\n",
       "      <td>0.054023</td>\n",
       "      <td>0.126437</td>\n",
       "      <td>0.306998</td>\n",
       "      <td>0.021637</td>\n",
       "    </tr>\n",
       "    <tr>\n",
       "      <th>bedrooms</th>\n",
       "      <td>0.315445</td>\n",
       "      <td>1.000000</td>\n",
       "      <td>0.529159</td>\n",
       "      <td>0.591467</td>\n",
       "      <td>0.032807</td>\n",
       "      <td>0.181085</td>\n",
       "      <td>-0.006611</td>\n",
       "      <td>0.025478</td>\n",
       "      <td>0.366502</td>\n",
       "      <td>0.490600</td>\n",
       "      <td>0.309490</td>\n",
       "      <td>0.159167</td>\n",
       "      <td>0.019617</td>\n",
       "      <td>-0.010541</td>\n",
       "      <td>0.133882</td>\n",
       "    </tr>\n",
       "    <tr>\n",
       "      <th>bathrooms</th>\n",
       "      <td>0.525147</td>\n",
       "      <td>0.529159</td>\n",
       "      <td>1.000000</td>\n",
       "      <td>0.754663</td>\n",
       "      <td>0.087735</td>\n",
       "      <td>0.500645</td>\n",
       "      <td>0.063742</td>\n",
       "      <td>-0.124946</td>\n",
       "      <td>0.664979</td>\n",
       "      <td>0.685339</td>\n",
       "      <td>0.283789</td>\n",
       "      <td>0.506012</td>\n",
       "      <td>0.050735</td>\n",
       "      <td>0.024594</td>\n",
       "      <td>0.223028</td>\n",
       "    </tr>\n",
       "    <tr>\n",
       "      <th>sqft_living</th>\n",
       "      <td>0.702047</td>\n",
       "      <td>0.591467</td>\n",
       "      <td>0.754663</td>\n",
       "      <td>1.000000</td>\n",
       "      <td>0.172822</td>\n",
       "      <td>0.353937</td>\n",
       "      <td>0.103816</td>\n",
       "      <td>-0.058704</td>\n",
       "      <td>0.762701</td>\n",
       "      <td>0.876597</td>\n",
       "      <td>0.435065</td>\n",
       "      <td>0.318037</td>\n",
       "      <td>0.055358</td>\n",
       "      <td>0.052552</td>\n",
       "      <td>0.240209</td>\n",
       "    </tr>\n",
       "    <tr>\n",
       "      <th>sqft_lot</th>\n",
       "      <td>0.089664</td>\n",
       "      <td>0.032807</td>\n",
       "      <td>0.087735</td>\n",
       "      <td>0.172822</td>\n",
       "      <td>1.000000</td>\n",
       "      <td>-0.005210</td>\n",
       "      <td>0.021603</td>\n",
       "      <td>-0.008935</td>\n",
       "      <td>0.113616</td>\n",
       "      <td>0.183507</td>\n",
       "      <td>0.015293</td>\n",
       "      <td>0.053073</td>\n",
       "      <td>0.007641</td>\n",
       "      <td>-0.085675</td>\n",
       "      <td>0.229516</td>\n",
       "    </tr>\n",
       "    <tr>\n",
       "      <th>floors</th>\n",
       "      <td>0.256811</td>\n",
       "      <td>0.181085</td>\n",
       "      <td>0.500645</td>\n",
       "      <td>0.353937</td>\n",
       "      <td>-0.005210</td>\n",
       "      <td>1.000000</td>\n",
       "      <td>0.023695</td>\n",
       "      <td>-0.263706</td>\n",
       "      <td>0.458171</td>\n",
       "      <td>0.523866</td>\n",
       "      <td>-0.245684</td>\n",
       "      <td>0.489302</td>\n",
       "      <td>0.006330</td>\n",
       "      <td>0.049655</td>\n",
       "      <td>0.125388</td>\n",
       "    </tr>\n",
       "    <tr>\n",
       "      <th>waterfront</th>\n",
       "      <td>0.266371</td>\n",
       "      <td>-0.006611</td>\n",
       "      <td>0.063742</td>\n",
       "      <td>0.103816</td>\n",
       "      <td>0.021603</td>\n",
       "      <td>0.023695</td>\n",
       "      <td>1.000000</td>\n",
       "      <td>0.016665</td>\n",
       "      <td>0.082773</td>\n",
       "      <td>0.072072</td>\n",
       "      <td>0.080591</td>\n",
       "      <td>-0.026165</td>\n",
       "      <td>0.092884</td>\n",
       "      <td>-0.014270</td>\n",
       "      <td>-0.041914</td>\n",
       "    </tr>\n",
       "    <tr>\n",
       "      <th>condition</th>\n",
       "      <td>0.036336</td>\n",
       "      <td>0.025478</td>\n",
       "      <td>-0.124946</td>\n",
       "      <td>-0.058704</td>\n",
       "      <td>-0.008935</td>\n",
       "      <td>-0.263706</td>\n",
       "      <td>0.016665</td>\n",
       "      <td>1.000000</td>\n",
       "      <td>-0.144632</td>\n",
       "      <td>-0.158136</td>\n",
       "      <td>0.174057</td>\n",
       "      <td>-0.361380</td>\n",
       "      <td>-0.060602</td>\n",
       "      <td>-0.015048</td>\n",
       "      <td>-0.106423</td>\n",
       "    </tr>\n",
       "    <tr>\n",
       "      <th>grade</th>\n",
       "      <td>0.667447</td>\n",
       "      <td>0.366502</td>\n",
       "      <td>0.664979</td>\n",
       "      <td>0.762701</td>\n",
       "      <td>0.113616</td>\n",
       "      <td>0.458171</td>\n",
       "      <td>0.082773</td>\n",
       "      <td>-0.144632</td>\n",
       "      <td>1.000000</td>\n",
       "      <td>0.755919</td>\n",
       "      <td>0.168412</td>\n",
       "      <td>0.446952</td>\n",
       "      <td>0.014409</td>\n",
       "      <td>0.114111</td>\n",
       "      <td>0.198355</td>\n",
       "    </tr>\n",
       "    <tr>\n",
       "      <th>sqft_above</th>\n",
       "      <td>0.605591</td>\n",
       "      <td>0.490600</td>\n",
       "      <td>0.685339</td>\n",
       "      <td>0.876597</td>\n",
       "      <td>0.183507</td>\n",
       "      <td>0.523866</td>\n",
       "      <td>0.072072</td>\n",
       "      <td>-0.158136</td>\n",
       "      <td>0.755919</td>\n",
       "      <td>1.000000</td>\n",
       "      <td>-0.051918</td>\n",
       "      <td>0.423879</td>\n",
       "      <td>0.023276</td>\n",
       "      <td>-0.000778</td>\n",
       "      <td>0.343780</td>\n",
       "    </tr>\n",
       "    <tr>\n",
       "      <th>sqft_basement</th>\n",
       "      <td>0.323812</td>\n",
       "      <td>0.309490</td>\n",
       "      <td>0.283789</td>\n",
       "      <td>0.435065</td>\n",
       "      <td>0.015293</td>\n",
       "      <td>-0.245684</td>\n",
       "      <td>0.080591</td>\n",
       "      <td>0.174057</td>\n",
       "      <td>0.168412</td>\n",
       "      <td>-0.051918</td>\n",
       "      <td>1.000000</td>\n",
       "      <td>-0.133103</td>\n",
       "      <td>0.071330</td>\n",
       "      <td>0.110513</td>\n",
       "      <td>-0.144743</td>\n",
       "    </tr>\n",
       "    <tr>\n",
       "      <th>yr_built</th>\n",
       "      <td>0.054023</td>\n",
       "      <td>0.159167</td>\n",
       "      <td>0.506012</td>\n",
       "      <td>0.318037</td>\n",
       "      <td>0.053073</td>\n",
       "      <td>0.489302</td>\n",
       "      <td>-0.026165</td>\n",
       "      <td>-0.361380</td>\n",
       "      <td>0.446952</td>\n",
       "      <td>0.423879</td>\n",
       "      <td>-0.133103</td>\n",
       "      <td>1.000000</td>\n",
       "      <td>-0.224885</td>\n",
       "      <td>-0.148093</td>\n",
       "      <td>0.409338</td>\n",
       "    </tr>\n",
       "    <tr>\n",
       "      <th>yr_renovated</th>\n",
       "      <td>0.126437</td>\n",
       "      <td>0.019617</td>\n",
       "      <td>0.050735</td>\n",
       "      <td>0.055358</td>\n",
       "      <td>0.007641</td>\n",
       "      <td>0.006330</td>\n",
       "      <td>0.092884</td>\n",
       "      <td>-0.060602</td>\n",
       "      <td>0.014409</td>\n",
       "      <td>0.023276</td>\n",
       "      <td>0.071330</td>\n",
       "      <td>-0.224885</td>\n",
       "      <td>1.000000</td>\n",
       "      <td>0.029407</td>\n",
       "      <td>-0.068382</td>\n",
       "    </tr>\n",
       "    <tr>\n",
       "      <th>lat</th>\n",
       "      <td>0.306998</td>\n",
       "      <td>-0.010541</td>\n",
       "      <td>0.024594</td>\n",
       "      <td>0.052552</td>\n",
       "      <td>-0.085675</td>\n",
       "      <td>0.049655</td>\n",
       "      <td>-0.014270</td>\n",
       "      <td>-0.015048</td>\n",
       "      <td>0.114111</td>\n",
       "      <td>-0.000778</td>\n",
       "      <td>0.110513</td>\n",
       "      <td>-0.148093</td>\n",
       "      <td>0.029407</td>\n",
       "      <td>1.000000</td>\n",
       "      <td>-0.135481</td>\n",
       "    </tr>\n",
       "    <tr>\n",
       "      <th>long</th>\n",
       "      <td>0.021637</td>\n",
       "      <td>0.133882</td>\n",
       "      <td>0.223028</td>\n",
       "      <td>0.240209</td>\n",
       "      <td>0.229516</td>\n",
       "      <td>0.125388</td>\n",
       "      <td>-0.041914</td>\n",
       "      <td>-0.106423</td>\n",
       "      <td>0.198355</td>\n",
       "      <td>0.343780</td>\n",
       "      <td>-0.144743</td>\n",
       "      <td>0.409338</td>\n",
       "      <td>-0.068382</td>\n",
       "      <td>-0.135481</td>\n",
       "      <td>1.000000</td>\n",
       "    </tr>\n",
       "  </tbody>\n",
       "</table>\n",
       "</div>"
      ],
      "text/plain": [
       "                  price  bedrooms  bathrooms  sqft_living  sqft_lot    floors  \\\n",
       "price          1.000000  0.315445   0.525147     0.702047  0.089664  0.256811   \n",
       "bedrooms       0.315445  1.000000   0.529159     0.591467  0.032807  0.181085   \n",
       "bathrooms      0.525147  0.529159   1.000000     0.754663  0.087735  0.500645   \n",
       "sqft_living    0.702047  0.591467   0.754663     1.000000  0.172822  0.353937   \n",
       "sqft_lot       0.089664  0.032807   0.087735     0.172822  1.000000 -0.005210   \n",
       "floors         0.256811  0.181085   0.500645     0.353937 -0.005210  1.000000   \n",
       "waterfront     0.266371 -0.006611   0.063742     0.103816  0.021603  0.023695   \n",
       "condition      0.036336  0.025478  -0.124946    -0.058704 -0.008935 -0.263706   \n",
       "grade          0.667447  0.366502   0.664979     0.762701  0.113616  0.458171   \n",
       "sqft_above     0.605591  0.490600   0.685339     0.876597  0.183507  0.523866   \n",
       "sqft_basement  0.323812  0.309490   0.283789     0.435065  0.015293 -0.245684   \n",
       "yr_built       0.054023  0.159167   0.506012     0.318037  0.053073  0.489302   \n",
       "yr_renovated   0.126437  0.019617   0.050735     0.055358  0.007641  0.006330   \n",
       "lat            0.306998 -0.010541   0.024594     0.052552 -0.085675  0.049655   \n",
       "long           0.021637  0.133882   0.223028     0.240209  0.229516  0.125388   \n",
       "\n",
       "               waterfront  condition     grade  sqft_above  sqft_basement  \\\n",
       "price            0.266371   0.036336  0.667447    0.605591       0.323812   \n",
       "bedrooms        -0.006611   0.025478  0.366502    0.490600       0.309490   \n",
       "bathrooms        0.063742  -0.124946  0.664979    0.685339       0.283789   \n",
       "sqft_living      0.103816  -0.058704  0.762701    0.876597       0.435065   \n",
       "sqft_lot         0.021603  -0.008935  0.113616    0.183507       0.015293   \n",
       "floors           0.023695  -0.263706  0.458171    0.523866      -0.245684   \n",
       "waterfront       1.000000   0.016665  0.082773    0.072072       0.080591   \n",
       "condition        0.016665   1.000000 -0.144632   -0.158136       0.174057   \n",
       "grade            0.082773  -0.144632  1.000000    0.755919       0.168412   \n",
       "sqft_above       0.072072  -0.158136  0.755919    1.000000      -0.051918   \n",
       "sqft_basement    0.080591   0.174057  0.168412   -0.051918       1.000000   \n",
       "yr_built        -0.026165  -0.361380  0.446952    0.423879      -0.133103   \n",
       "yr_renovated     0.092884  -0.060602  0.014409    0.023276       0.071330   \n",
       "lat             -0.014270  -0.015048  0.114111   -0.000778       0.110513   \n",
       "long            -0.041914  -0.106423  0.198355    0.343780      -0.144743   \n",
       "\n",
       "               yr_built  yr_renovated       lat      long  \n",
       "price          0.054023      0.126437  0.306998  0.021637  \n",
       "bedrooms       0.159167      0.019617 -0.010541  0.133882  \n",
       "bathrooms      0.506012      0.050735  0.024594  0.223028  \n",
       "sqft_living    0.318037      0.055358  0.052552  0.240209  \n",
       "sqft_lot       0.053073      0.007641 -0.085675  0.229516  \n",
       "floors         0.489302      0.006330  0.049655  0.125388  \n",
       "waterfront    -0.026165      0.092884 -0.014270 -0.041914  \n",
       "condition     -0.361380     -0.060602 -0.015048 -0.106423  \n",
       "grade          0.446952      0.014409  0.114111  0.198355  \n",
       "sqft_above     0.423879      0.023276 -0.000778  0.343780  \n",
       "sqft_basement -0.133103      0.071330  0.110513 -0.144743  \n",
       "yr_built       1.000000     -0.224885 -0.148093  0.409338  \n",
       "yr_renovated  -0.224885      1.000000  0.029407 -0.068382  \n",
       "lat           -0.148093      0.029407  1.000000 -0.135481  \n",
       "long           0.409338     -0.068382 -0.135481  1.000000  "
      ]
     },
     "execution_count": 206,
     "metadata": {},
     "output_type": "execute_result"
    }
   ],
   "source": [
    "data.corr()"
   ]
  },
  {
   "cell_type": "code",
   "execution_count": 207,
   "id": "b3e642b3",
   "metadata": {},
   "outputs": [
    {
     "data": {
      "text/plain": [
       "<AxesSubplot:>"
      ]
     },
     "execution_count": 207,
     "metadata": {},
     "output_type": "execute_result"
    },
    {
     "data": {
      "image/png": "[encoded data removed]",
      "text/plain": [
       "<Figure size 1080x720 with 2 Axes>"
      ]
     },
     "metadata": {
      "needs_background": "light"
     },
     "output_type": "display_data"
    }
   ],
   "source": [
    "import matplotlib.pyplot as plt\n",
    "f,ax = plt.subplots(figsize=(15,10))\n",
    "sns.heatmap(data.corr(),annot=True, cmap = 'YlGnBu' ,linewidths=.1, fmt= '.1f',ax=ax)"
   ]
  },
  {
   "cell_type": "markdown",
   "id": "0014c360",
   "metadata": {},
   "source": [
    "By observing the diffrent plots,we can see that the price is dependent on various features the most important ones are : grade,sqft_living,sqft_abouve,bathrooms,bedrooms,floors,condition.\n",
    "\n",
    "other features like (y_built,y_renovated,sqlt_lot, waterfront ,view) are less important\n",
    "\n",
    "while(id,lat,long,view,zipcode..) dont have any effect on the price\n",
    "\n"
   ]
  },
  {
   "cell_type": "markdown",
   "id": "60218f2b",
   "metadata": {},
   "source": [
    "# Modeling :"
   ]
  },
  {
   "cell_type": "markdown",
   "id": "8a15fa7c",
   "metadata": {},
   "source": [
    "linear regression :"
   ]
  },
  {
   "cell_type": "code",
   "execution_count": 245,
   "id": "2938fa19",
   "metadata": {},
   "outputs": [],
   "source": [
    "x=data['sqft_living'].values.reshape(-1,1)\n",
    "y=data['price']\n",
    "x_train,x_test,y_train,y_test=train_test_split(x,y, test_size=0.20,random_state=30)"
   ]
  },
  {
   "cell_type": "code",
   "execution_count": 246,
   "id": "7187fceb",
   "metadata": {},
   "outputs": [],
   "source": [
    "model=LinearRegression() #build linear regression model\n",
    "model.fit(x_train,y_train) #fitting the training data\n",
    "predicted=model.predict(x_test) #testing our model’s performance"
   ]
  },
  {
   "cell_type": "code",
   "execution_count": 247,
   "id": "afd28a57",
   "metadata": {},
   "outputs": [
    {
     "name": "stdout",
     "output_type": "stream",
     "text": [
      "MSE 63626156706.13171\n",
      "R squared 0.4689763547454001\n"
     ]
    }
   ],
   "source": [
    "print(\"MSE\", mean_squared_error(y_test,predicted))\n",
    "print(\"R squared\", metrics.r2_score(y_test,predicted))"
   ]
  },
  {
   "cell_type": "code",
   "execution_count": 248,
   "id": "ba4a53f0",
   "metadata": {
    "scrolled": false
   },
   "outputs": [
    {
     "data": {
      "image/png": "[encoded data removed]",
      "text/plain": [
       "<Figure size 432x288 with 1 Axes>"
      ]
     },
     "metadata": {
      "needs_background": "light"
     },
     "output_type": "display_data"
    }
   ],
   "source": [
    "plt.scatter(x_test.squeeze(),y_test,label=\"data points\")\n",
    "plt.title(\"Linear Regression\")\n",
    "plt.ylabel(\"price\")\n",
    "plt.xlabel(\"sqft_living\")\n",
    "plt.plot(x_test,model.predict(x_test),color=\"k\")\n",
    "plt.show()"
   ]
  },
  {
   "cell_type": "markdown",
   "id": "5ca9db02",
   "metadata": {},
   "source": [
    "Multi-linear regression :"
   ]
  },
  {
   "cell_type": "code",
   "execution_count": 249,
   "id": "d438caa7",
   "metadata": {},
   "outputs": [],
   "source": [
    "model=LinearRegression() #build linear regression model\n",
    "model.fit(x_train,y_train) #fitting the training data\n",
    "predicted=model.predict(x_test) #testing our model’s performance"
   ]
  },
  {
   "cell_type": "code",
   "execution_count": 250,
   "id": "a3dc0988",
   "metadata": {},
   "outputs": [],
   "source": [
    "x=data[['grade','sqft_living','sqft_above','bathrooms','bedrooms','floors','condition','lat','long']]\n",
    "y=data['price'].values\n",
    "x_train,x_test,y_train,y_test=train_test_split(x,y, test_size=0.20,random_state=30)"
   ]
  },
  {
   "cell_type": "code",
   "execution_count": 251,
   "id": "90acb5fa",
   "metadata": {},
   "outputs": [],
   "source": [
    "model=LinearRegression() #build linear regression model\n",
    "model.fit(x_train,y_train) #fitting the training data\n",
    "predicted=model.predict(x_test) #testing our model’s performance"
   ]
  },
  {
   "cell_type": "code",
   "execution_count": 252,
   "id": "a41d495c",
   "metadata": {
    "scrolled": true
   },
   "outputs": [
    {
     "name": "stdout",
     "output_type": "stream",
     "text": [
      "MSE 45068654994.93957\n",
      "R squared 0.6238571885982178\n"
     ]
    }
   ],
   "source": [
    "print(\"MSE\", mean_squared_error(y_test,predicted))\n",
    "print(\"R squared\", metrics.r2_score(y_test,predicted))"
   ]
  },
  {
   "cell_type": "markdown",
   "id": "c0ec7e3c",
   "metadata": {},
   "source": [
    "by comparing the linear regression and the Multi-linear regression, we notice that the Multi-linear regression is slightly better,and we were able to minimize the prediction errors since the prices of houses depends on multiple features."
   ]
  },
  {
   "cell_type": "markdown",
   "id": "79fd0584",
   "metadata": {},
   "source": [
    "Polynomial regression :"
   ]
  },
  {
   "cell_type": "markdown",
   "id": "02cc5511",
   "metadata": {},
   "source": [
    "Polynomial linear :"
   ]
  },
  {
   "cell_type": "code",
   "execution_count": 258,
   "id": "f5cfb880",
   "metadata": {
    "scrolled": true
   },
   "outputs": [
    {
     "name": "stdout",
     "output_type": "stream",
     "text": [
      "MSE:  58380436156.19242\n",
      "R squared:  0.512757117133446\n"
     ]
    }
   ],
   "source": [
    "x=data['sqft_living'].values.reshape(-1,1)\n",
    "y=data['price']\n",
    "\n",
    "lg=LinearRegression()\n",
    "poly = PolynomialFeatures(degree=3)\n",
    "\n",
    "x_train,x_test,y_train,y_test=train_test_split(x,y, test_size=0.20,random_state=30)  #splitting data\n",
    "\n",
    "x_train_fit = poly.fit_transform(x_train) #transforming our input data\n",
    "x_test_ = poly.fit_transform(x_test)\n",
    "\n",
    "lg.fit(x_train_fit, y_train) # Fitting Polynomial Regression to the dataset \n",
    "\n",
    "predicted = lg.predict(x_test_)\n",
    "\n",
    "print(\"MSE: \", metrics.mean_squared_error(y_test, predicted))\n",
    "print(\"R squared: \", metrics.r2_score(y_test,predicted))"
   ]
  },
  {
   "cell_type": "markdown",
   "id": "c04c1b3a",
   "metadata": {},
   "source": [
    "polynomial multi regression :"
   ]
  },
  {
   "cell_type": "code",
   "execution_count": 263,
   "id": "49ae30a2",
   "metadata": {},
   "outputs": [
    {
     "name": "stdout",
     "output_type": "stream",
     "text": [
      "MSE:  169067926332.72067\n",
      "R squared:  -0.4110402259796624\n"
     ]
    }
   ],
   "source": [
    "x=data[['grade','sqft_living','sqft_above','bathrooms','bedrooms','floors','condition','lat','long']]\n",
    "y=data['price'].values\n",
    "\n",
    "lg=LinearRegression()\n",
    "poly=PolynomialFeatures(degree=3)\n",
    "\n",
    "x_train,x_test,y_train,y_test=train_test_split(x,y, test_size=0.20,random_state=30)  #splitting data\n",
    "\n",
    "x_train_fit = poly.fit_transform(x_train) #transforming our input data\n",
    "x_test_ = poly.fit_transform(x_test)\n",
    "\n",
    "lg.fit(x_train_fit, y_train) # Fitting Polynomial Regression to the dataset \n",
    "predicted = lg.predict(x_test_)\n",
    "\n",
    "print(\"MSE: \", metrics.mean_squared_error(y_test, predicted))\n",
    "print(\"R squared: \", metrics.r2_score(y_test,predicted))"
   ]
  },
  {
   "cell_type": "markdown",
   "id": "62544b9c",
   "metadata": {},
   "source": [
    "by comparing the Polynomial regression with the linear and the Multi-linear regression, we notice that loss function (MSE) is smaller when using Polynomial regression and the R squared value is higher, therfore we were able to minimize the prediction errors since the prices of houses depends on multiple features and the regression is curvy and not linear so it will be batter explained with a polynomial model."
   ]
  },
  {
   "cell_type": "code",
   "execution_count": null,
   "id": "acd0e9fa",
   "metadata": {},
   "outputs": [],
   "source": []
  }
 ],
 "metadata": {
  "kernelspec": {
   "display_name": "Python 3",
   "language": "python",
   "name": "python3"
  },
  "language_info": {
   "codemirror_mode": {
    "name": "ipython",
    "version": 3
   },
   "file_extension": ".py",
   "mimetype": "text/x-python",
   "name": "python",
   "nbconvert_exporter": "python",
   "pygments_lexer": "ipython3",
   "version": "3.8.8"
  }
 },
 "nbformat": 4,
 "nbformat_minor": 5
}
